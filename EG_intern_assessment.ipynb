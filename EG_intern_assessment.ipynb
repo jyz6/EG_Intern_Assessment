{
 "cells": [
  {
   "cell_type": "markdown",
   "metadata": {},
   "source": [
    "## Imports"
   ]
  },
  {
   "cell_type": "code",
   "execution_count": 151,
   "metadata": {},
   "outputs": [],
   "source": [
    "import pandas as pd\n",
    "import numpy as np\n",
    "import os\n",
    "import matplotlib.pyplot as plt\n",
    "import seaborn as sns\n",
    "import tensorflow as tf\n",
    "from sklearn import model_selection\n",
    "from sklearn import linear_model\n",
    "from sklearn import metrics\n",
    "\n",
    "from sklearn.model_selection import train_test_split"
   ]
  },
  {
   "cell_type": "markdown",
   "metadata": {},
   "source": [
    "## Load the Game Data"
   ]
  },
  {
   "cell_type": "code",
   "execution_count": 2,
   "metadata": {},
   "outputs": [],
   "source": [
    "data = pd.read_csv('starcraft_player_data.csv')"
   ]
  },
  {
   "cell_type": "markdown",
   "metadata": {},
   "source": [
    "Let's take a quick look at some of the data"
   ]
  },
  {
   "cell_type": "code",
   "execution_count": 3,
   "metadata": {},
   "outputs": [
    {
     "data": {
      "text/html": [
       "<div>\n",
       "<style scoped>\n",
       "    .dataframe tbody tr th:only-of-type {\n",
       "        vertical-align: middle;\n",
       "    }\n",
       "\n",
       "    .dataframe tbody tr th {\n",
       "        vertical-align: top;\n",
       "    }\n",
       "\n",
       "    .dataframe thead th {\n",
       "        text-align: right;\n",
       "    }\n",
       "</style>\n",
       "<table border=\"1\" class=\"dataframe\">\n",
       "  <thead>\n",
       "    <tr style=\"text-align: right;\">\n",
       "      <th></th>\n",
       "      <th>GameID</th>\n",
       "      <th>LeagueIndex</th>\n",
       "      <th>Age</th>\n",
       "      <th>HoursPerWeek</th>\n",
       "      <th>TotalHours</th>\n",
       "      <th>APM</th>\n",
       "      <th>SelectByHotkeys</th>\n",
       "      <th>AssignToHotkeys</th>\n",
       "      <th>UniqueHotkeys</th>\n",
       "      <th>MinimapAttacks</th>\n",
       "      <th>MinimapRightClicks</th>\n",
       "      <th>NumberOfPACs</th>\n",
       "      <th>GapBetweenPACs</th>\n",
       "      <th>ActionLatency</th>\n",
       "      <th>ActionsInPAC</th>\n",
       "      <th>TotalMapExplored</th>\n",
       "      <th>WorkersMade</th>\n",
       "      <th>UniqueUnitsMade</th>\n",
       "      <th>ComplexUnitsMade</th>\n",
       "      <th>ComplexAbilitiesUsed</th>\n",
       "    </tr>\n",
       "  </thead>\n",
       "  <tbody>\n",
       "    <tr>\n",
       "      <th>0</th>\n",
       "      <td>52</td>\n",
       "      <td>5</td>\n",
       "      <td>27</td>\n",
       "      <td>10</td>\n",
       "      <td>3000</td>\n",
       "      <td>143.7180</td>\n",
       "      <td>0.003515</td>\n",
       "      <td>0.000220</td>\n",
       "      <td>7</td>\n",
       "      <td>0.000110</td>\n",
       "      <td>0.000392</td>\n",
       "      <td>0.004849</td>\n",
       "      <td>32.6677</td>\n",
       "      <td>40.8673</td>\n",
       "      <td>4.7508</td>\n",
       "      <td>28</td>\n",
       "      <td>0.001397</td>\n",
       "      <td>6</td>\n",
       "      <td>0.0</td>\n",
       "      <td>0.000000</td>\n",
       "    </tr>\n",
       "    <tr>\n",
       "      <th>1</th>\n",
       "      <td>55</td>\n",
       "      <td>5</td>\n",
       "      <td>23</td>\n",
       "      <td>10</td>\n",
       "      <td>5000</td>\n",
       "      <td>129.2322</td>\n",
       "      <td>0.003304</td>\n",
       "      <td>0.000259</td>\n",
       "      <td>4</td>\n",
       "      <td>0.000294</td>\n",
       "      <td>0.000432</td>\n",
       "      <td>0.004307</td>\n",
       "      <td>32.9194</td>\n",
       "      <td>42.3454</td>\n",
       "      <td>4.8434</td>\n",
       "      <td>22</td>\n",
       "      <td>0.001194</td>\n",
       "      <td>5</td>\n",
       "      <td>0.0</td>\n",
       "      <td>0.000208</td>\n",
       "    </tr>\n",
       "    <tr>\n",
       "      <th>2</th>\n",
       "      <td>56</td>\n",
       "      <td>4</td>\n",
       "      <td>30</td>\n",
       "      <td>10</td>\n",
       "      <td>200</td>\n",
       "      <td>69.9612</td>\n",
       "      <td>0.001101</td>\n",
       "      <td>0.000336</td>\n",
       "      <td>4</td>\n",
       "      <td>0.000294</td>\n",
       "      <td>0.000461</td>\n",
       "      <td>0.002926</td>\n",
       "      <td>44.6475</td>\n",
       "      <td>75.3548</td>\n",
       "      <td>4.0430</td>\n",
       "      <td>22</td>\n",
       "      <td>0.000745</td>\n",
       "      <td>6</td>\n",
       "      <td>0.0</td>\n",
       "      <td>0.000189</td>\n",
       "    </tr>\n",
       "    <tr>\n",
       "      <th>3</th>\n",
       "      <td>57</td>\n",
       "      <td>3</td>\n",
       "      <td>19</td>\n",
       "      <td>20</td>\n",
       "      <td>400</td>\n",
       "      <td>107.6016</td>\n",
       "      <td>0.001034</td>\n",
       "      <td>0.000213</td>\n",
       "      <td>1</td>\n",
       "      <td>0.000053</td>\n",
       "      <td>0.000543</td>\n",
       "      <td>0.003783</td>\n",
       "      <td>29.2203</td>\n",
       "      <td>53.7352</td>\n",
       "      <td>4.9155</td>\n",
       "      <td>19</td>\n",
       "      <td>0.000426</td>\n",
       "      <td>7</td>\n",
       "      <td>0.0</td>\n",
       "      <td>0.000384</td>\n",
       "    </tr>\n",
       "    <tr>\n",
       "      <th>4</th>\n",
       "      <td>58</td>\n",
       "      <td>3</td>\n",
       "      <td>32</td>\n",
       "      <td>10</td>\n",
       "      <td>500</td>\n",
       "      <td>122.8908</td>\n",
       "      <td>0.001136</td>\n",
       "      <td>0.000327</td>\n",
       "      <td>2</td>\n",
       "      <td>0.000000</td>\n",
       "      <td>0.001329</td>\n",
       "      <td>0.002368</td>\n",
       "      <td>22.6885</td>\n",
       "      <td>62.0813</td>\n",
       "      <td>9.3740</td>\n",
       "      <td>15</td>\n",
       "      <td>0.001174</td>\n",
       "      <td>4</td>\n",
       "      <td>0.0</td>\n",
       "      <td>0.000019</td>\n",
       "    </tr>\n",
       "  </tbody>\n",
       "</table>\n",
       "</div>"
      ],
      "text/plain": [
       "   GameID  LeagueIndex Age HoursPerWeek TotalHours       APM  SelectByHotkeys  \\\n",
       "0      52            5  27           10       3000  143.7180         0.003515   \n",
       "1      55            5  23           10       5000  129.2322         0.003304   \n",
       "2      56            4  30           10        200   69.9612         0.001101   \n",
       "3      57            3  19           20        400  107.6016         0.001034   \n",
       "4      58            3  32           10        500  122.8908         0.001136   \n",
       "\n",
       "   AssignToHotkeys  UniqueHotkeys  MinimapAttacks  MinimapRightClicks  \\\n",
       "0         0.000220              7        0.000110            0.000392   \n",
       "1         0.000259              4        0.000294            0.000432   \n",
       "2         0.000336              4        0.000294            0.000461   \n",
       "3         0.000213              1        0.000053            0.000543   \n",
       "4         0.000327              2        0.000000            0.001329   \n",
       "\n",
       "   NumberOfPACs  GapBetweenPACs  ActionLatency  ActionsInPAC  \\\n",
       "0      0.004849         32.6677        40.8673        4.7508   \n",
       "1      0.004307         32.9194        42.3454        4.8434   \n",
       "2      0.002926         44.6475        75.3548        4.0430   \n",
       "3      0.003783         29.2203        53.7352        4.9155   \n",
       "4      0.002368         22.6885        62.0813        9.3740   \n",
       "\n",
       "   TotalMapExplored  WorkersMade  UniqueUnitsMade  ComplexUnitsMade  \\\n",
       "0                28     0.001397                6               0.0   \n",
       "1                22     0.001194                5               0.0   \n",
       "2                22     0.000745                6               0.0   \n",
       "3                19     0.000426                7               0.0   \n",
       "4                15     0.001174                4               0.0   \n",
       "\n",
       "   ComplexAbilitiesUsed  \n",
       "0              0.000000  \n",
       "1              0.000208  \n",
       "2              0.000189  \n",
       "3              0.000384  \n",
       "4              0.000019  "
      ]
     },
     "execution_count": 3,
     "metadata": {},
     "output_type": "execute_result"
    }
   ],
   "source": [
    "data.head()"
   ]
  },
  {
   "cell_type": "code",
   "execution_count": 4,
   "metadata": {},
   "outputs": [
    {
     "name": "stdout",
     "output_type": "stream",
     "text": [
      "GameID                  0\n",
      "LeagueIndex             0\n",
      "Age                     0\n",
      "HoursPerWeek            0\n",
      "TotalHours              0\n",
      "APM                     0\n",
      "SelectByHotkeys         0\n",
      "AssignToHotkeys         0\n",
      "UniqueHotkeys           0\n",
      "MinimapAttacks          0\n",
      "MinimapRightClicks      0\n",
      "NumberOfPACs            0\n",
      "GapBetweenPACs          0\n",
      "ActionLatency           0\n",
      "ActionsInPAC            0\n",
      "TotalMapExplored        0\n",
      "WorkersMade             0\n",
      "UniqueUnitsMade         0\n",
      "ComplexUnitsMade        0\n",
      "ComplexAbilitiesUsed    0\n",
      "dtype: int64\n"
     ]
    }
   ],
   "source": [
    "print(data.isnull().sum())"
   ]
  },
  {
   "cell_type": "code",
   "execution_count": 5,
   "metadata": {},
   "outputs": [
    {
     "data": {
      "text/html": [
       "<div>\n",
       "<style scoped>\n",
       "    .dataframe tbody tr th:only-of-type {\n",
       "        vertical-align: middle;\n",
       "    }\n",
       "\n",
       "    .dataframe tbody tr th {\n",
       "        vertical-align: top;\n",
       "    }\n",
       "\n",
       "    .dataframe thead th {\n",
       "        text-align: right;\n",
       "    }\n",
       "</style>\n",
       "<table border=\"1\" class=\"dataframe\">\n",
       "  <thead>\n",
       "    <tr style=\"text-align: right;\">\n",
       "      <th></th>\n",
       "      <th>Target</th>\n",
       "      <th>Age</th>\n",
       "      <th>HoursPerWeek</th>\n",
       "      <th>TotalHours</th>\n",
       "      <th>APM</th>\n",
       "      <th>SelectByHotkeys</th>\n",
       "      <th>AssignToHotkeys</th>\n",
       "      <th>UniqueHotkeys</th>\n",
       "      <th>MinimapAttacks</th>\n",
       "      <th>MinimapRightClicks</th>\n",
       "      <th>NumberOfPACs</th>\n",
       "      <th>GapBetweenPACs</th>\n",
       "      <th>ActionLatency</th>\n",
       "      <th>ActionsInPAC</th>\n",
       "      <th>TotalMapExplored</th>\n",
       "      <th>WorkersMade</th>\n",
       "      <th>UniqueUnitsMade</th>\n",
       "      <th>ComplexUnitsMade</th>\n",
       "      <th>ComplexAbilitiesUsed</th>\n",
       "    </tr>\n",
       "  </thead>\n",
       "  <tbody>\n",
       "    <tr>\n",
       "      <th>0</th>\n",
       "      <td>5</td>\n",
       "      <td>27</td>\n",
       "      <td>10</td>\n",
       "      <td>3000</td>\n",
       "      <td>143.7180</td>\n",
       "      <td>0.003515</td>\n",
       "      <td>0.000220</td>\n",
       "      <td>7</td>\n",
       "      <td>0.000110</td>\n",
       "      <td>0.000392</td>\n",
       "      <td>0.004849</td>\n",
       "      <td>32.6677</td>\n",
       "      <td>40.8673</td>\n",
       "      <td>4.7508</td>\n",
       "      <td>28</td>\n",
       "      <td>0.001397</td>\n",
       "      <td>6</td>\n",
       "      <td>0.000000</td>\n",
       "      <td>0.000000</td>\n",
       "    </tr>\n",
       "    <tr>\n",
       "      <th>1</th>\n",
       "      <td>5</td>\n",
       "      <td>23</td>\n",
       "      <td>10</td>\n",
       "      <td>5000</td>\n",
       "      <td>129.2322</td>\n",
       "      <td>0.003304</td>\n",
       "      <td>0.000259</td>\n",
       "      <td>4</td>\n",
       "      <td>0.000294</td>\n",
       "      <td>0.000432</td>\n",
       "      <td>0.004307</td>\n",
       "      <td>32.9194</td>\n",
       "      <td>42.3454</td>\n",
       "      <td>4.8434</td>\n",
       "      <td>22</td>\n",
       "      <td>0.001194</td>\n",
       "      <td>5</td>\n",
       "      <td>0.000000</td>\n",
       "      <td>0.000208</td>\n",
       "    </tr>\n",
       "    <tr>\n",
       "      <th>2</th>\n",
       "      <td>4</td>\n",
       "      <td>30</td>\n",
       "      <td>10</td>\n",
       "      <td>200</td>\n",
       "      <td>69.9612</td>\n",
       "      <td>0.001101</td>\n",
       "      <td>0.000336</td>\n",
       "      <td>4</td>\n",
       "      <td>0.000294</td>\n",
       "      <td>0.000461</td>\n",
       "      <td>0.002926</td>\n",
       "      <td>44.6475</td>\n",
       "      <td>75.3548</td>\n",
       "      <td>4.0430</td>\n",
       "      <td>22</td>\n",
       "      <td>0.000745</td>\n",
       "      <td>6</td>\n",
       "      <td>0.000000</td>\n",
       "      <td>0.000189</td>\n",
       "    </tr>\n",
       "    <tr>\n",
       "      <th>3</th>\n",
       "      <td>3</td>\n",
       "      <td>19</td>\n",
       "      <td>20</td>\n",
       "      <td>400</td>\n",
       "      <td>107.6016</td>\n",
       "      <td>0.001034</td>\n",
       "      <td>0.000213</td>\n",
       "      <td>1</td>\n",
       "      <td>0.000053</td>\n",
       "      <td>0.000543</td>\n",
       "      <td>0.003783</td>\n",
       "      <td>29.2203</td>\n",
       "      <td>53.7352</td>\n",
       "      <td>4.9155</td>\n",
       "      <td>19</td>\n",
       "      <td>0.000426</td>\n",
       "      <td>7</td>\n",
       "      <td>0.000000</td>\n",
       "      <td>0.000384</td>\n",
       "    </tr>\n",
       "    <tr>\n",
       "      <th>4</th>\n",
       "      <td>3</td>\n",
       "      <td>32</td>\n",
       "      <td>10</td>\n",
       "      <td>500</td>\n",
       "      <td>122.8908</td>\n",
       "      <td>0.001136</td>\n",
       "      <td>0.000327</td>\n",
       "      <td>2</td>\n",
       "      <td>0.000000</td>\n",
       "      <td>0.001329</td>\n",
       "      <td>0.002368</td>\n",
       "      <td>22.6885</td>\n",
       "      <td>62.0813</td>\n",
       "      <td>9.3740</td>\n",
       "      <td>15</td>\n",
       "      <td>0.001174</td>\n",
       "      <td>4</td>\n",
       "      <td>0.000000</td>\n",
       "      <td>0.000019</td>\n",
       "    </tr>\n",
       "    <tr>\n",
       "      <th>...</th>\n",
       "      <td>...</td>\n",
       "      <td>...</td>\n",
       "      <td>...</td>\n",
       "      <td>...</td>\n",
       "      <td>...</td>\n",
       "      <td>...</td>\n",
       "      <td>...</td>\n",
       "      <td>...</td>\n",
       "      <td>...</td>\n",
       "      <td>...</td>\n",
       "      <td>...</td>\n",
       "      <td>...</td>\n",
       "      <td>...</td>\n",
       "      <td>...</td>\n",
       "      <td>...</td>\n",
       "      <td>...</td>\n",
       "      <td>...</td>\n",
       "      <td>...</td>\n",
       "      <td>...</td>\n",
       "    </tr>\n",
       "    <tr>\n",
       "      <th>3390</th>\n",
       "      <td>8</td>\n",
       "      <td>?</td>\n",
       "      <td>?</td>\n",
       "      <td>?</td>\n",
       "      <td>259.6296</td>\n",
       "      <td>0.020425</td>\n",
       "      <td>0.000743</td>\n",
       "      <td>9</td>\n",
       "      <td>0.000621</td>\n",
       "      <td>0.000146</td>\n",
       "      <td>0.004555</td>\n",
       "      <td>18.6059</td>\n",
       "      <td>42.8342</td>\n",
       "      <td>6.2754</td>\n",
       "      <td>46</td>\n",
       "      <td>0.000877</td>\n",
       "      <td>5</td>\n",
       "      <td>0.000000</td>\n",
       "      <td>0.000000</td>\n",
       "    </tr>\n",
       "    <tr>\n",
       "      <th>3391</th>\n",
       "      <td>8</td>\n",
       "      <td>?</td>\n",
       "      <td>?</td>\n",
       "      <td>?</td>\n",
       "      <td>314.6700</td>\n",
       "      <td>0.028043</td>\n",
       "      <td>0.001157</td>\n",
       "      <td>10</td>\n",
       "      <td>0.000246</td>\n",
       "      <td>0.001083</td>\n",
       "      <td>0.004259</td>\n",
       "      <td>14.3023</td>\n",
       "      <td>36.1156</td>\n",
       "      <td>7.1965</td>\n",
       "      <td>16</td>\n",
       "      <td>0.000788</td>\n",
       "      <td>4</td>\n",
       "      <td>0.000000</td>\n",
       "      <td>0.000000</td>\n",
       "    </tr>\n",
       "    <tr>\n",
       "      <th>3392</th>\n",
       "      <td>8</td>\n",
       "      <td>?</td>\n",
       "      <td>?</td>\n",
       "      <td>?</td>\n",
       "      <td>299.4282</td>\n",
       "      <td>0.028341</td>\n",
       "      <td>0.000860</td>\n",
       "      <td>7</td>\n",
       "      <td>0.000338</td>\n",
       "      <td>0.000169</td>\n",
       "      <td>0.004439</td>\n",
       "      <td>12.4028</td>\n",
       "      <td>39.5156</td>\n",
       "      <td>6.3979</td>\n",
       "      <td>19</td>\n",
       "      <td>0.001260</td>\n",
       "      <td>4</td>\n",
       "      <td>0.000000</td>\n",
       "      <td>0.000000</td>\n",
       "    </tr>\n",
       "    <tr>\n",
       "      <th>3393</th>\n",
       "      <td>8</td>\n",
       "      <td>?</td>\n",
       "      <td>?</td>\n",
       "      <td>?</td>\n",
       "      <td>375.8664</td>\n",
       "      <td>0.036436</td>\n",
       "      <td>0.000594</td>\n",
       "      <td>5</td>\n",
       "      <td>0.000204</td>\n",
       "      <td>0.000780</td>\n",
       "      <td>0.004346</td>\n",
       "      <td>11.6910</td>\n",
       "      <td>34.8547</td>\n",
       "      <td>7.9615</td>\n",
       "      <td>15</td>\n",
       "      <td>0.000613</td>\n",
       "      <td>6</td>\n",
       "      <td>0.000000</td>\n",
       "      <td>0.000631</td>\n",
       "    </tr>\n",
       "    <tr>\n",
       "      <th>3394</th>\n",
       "      <td>8</td>\n",
       "      <td>?</td>\n",
       "      <td>?</td>\n",
       "      <td>?</td>\n",
       "      <td>348.3576</td>\n",
       "      <td>0.029855</td>\n",
       "      <td>0.000811</td>\n",
       "      <td>4</td>\n",
       "      <td>0.000224</td>\n",
       "      <td>0.001315</td>\n",
       "      <td>0.005566</td>\n",
       "      <td>20.0537</td>\n",
       "      <td>33.5142</td>\n",
       "      <td>6.3719</td>\n",
       "      <td>27</td>\n",
       "      <td>0.001566</td>\n",
       "      <td>7</td>\n",
       "      <td>0.000457</td>\n",
       "      <td>0.000895</td>\n",
       "    </tr>\n",
       "  </tbody>\n",
       "</table>\n",
       "<p>3395 rows × 19 columns</p>\n",
       "</div>"
      ],
      "text/plain": [
       "      Target Age HoursPerWeek TotalHours       APM  SelectByHotkeys  \\\n",
       "0          5  27           10       3000  143.7180         0.003515   \n",
       "1          5  23           10       5000  129.2322         0.003304   \n",
       "2          4  30           10        200   69.9612         0.001101   \n",
       "3          3  19           20        400  107.6016         0.001034   \n",
       "4          3  32           10        500  122.8908         0.001136   \n",
       "...      ...  ..          ...        ...       ...              ...   \n",
       "3390       8   ?            ?          ?  259.6296         0.020425   \n",
       "3391       8   ?            ?          ?  314.6700         0.028043   \n",
       "3392       8   ?            ?          ?  299.4282         0.028341   \n",
       "3393       8   ?            ?          ?  375.8664         0.036436   \n",
       "3394       8   ?            ?          ?  348.3576         0.029855   \n",
       "\n",
       "      AssignToHotkeys  UniqueHotkeys  MinimapAttacks  MinimapRightClicks  \\\n",
       "0            0.000220              7        0.000110            0.000392   \n",
       "1            0.000259              4        0.000294            0.000432   \n",
       "2            0.000336              4        0.000294            0.000461   \n",
       "3            0.000213              1        0.000053            0.000543   \n",
       "4            0.000327              2        0.000000            0.001329   \n",
       "...               ...            ...             ...                 ...   \n",
       "3390         0.000743              9        0.000621            0.000146   \n",
       "3391         0.001157             10        0.000246            0.001083   \n",
       "3392         0.000860              7        0.000338            0.000169   \n",
       "3393         0.000594              5        0.000204            0.000780   \n",
       "3394         0.000811              4        0.000224            0.001315   \n",
       "\n",
       "      NumberOfPACs  GapBetweenPACs  ActionLatency  ActionsInPAC  \\\n",
       "0         0.004849         32.6677        40.8673        4.7508   \n",
       "1         0.004307         32.9194        42.3454        4.8434   \n",
       "2         0.002926         44.6475        75.3548        4.0430   \n",
       "3         0.003783         29.2203        53.7352        4.9155   \n",
       "4         0.002368         22.6885        62.0813        9.3740   \n",
       "...            ...             ...            ...           ...   \n",
       "3390      0.004555         18.6059        42.8342        6.2754   \n",
       "3391      0.004259         14.3023        36.1156        7.1965   \n",
       "3392      0.004439         12.4028        39.5156        6.3979   \n",
       "3393      0.004346         11.6910        34.8547        7.9615   \n",
       "3394      0.005566         20.0537        33.5142        6.3719   \n",
       "\n",
       "      TotalMapExplored  WorkersMade  UniqueUnitsMade  ComplexUnitsMade  \\\n",
       "0                   28     0.001397                6          0.000000   \n",
       "1                   22     0.001194                5          0.000000   \n",
       "2                   22     0.000745                6          0.000000   \n",
       "3                   19     0.000426                7          0.000000   \n",
       "4                   15     0.001174                4          0.000000   \n",
       "...                ...          ...              ...               ...   \n",
       "3390                46     0.000877                5          0.000000   \n",
       "3391                16     0.000788                4          0.000000   \n",
       "3392                19     0.001260                4          0.000000   \n",
       "3393                15     0.000613                6          0.000000   \n",
       "3394                27     0.001566                7          0.000457   \n",
       "\n",
       "      ComplexAbilitiesUsed  \n",
       "0                 0.000000  \n",
       "1                 0.000208  \n",
       "2                 0.000189  \n",
       "3                 0.000384  \n",
       "4                 0.000019  \n",
       "...                    ...  \n",
       "3390              0.000000  \n",
       "3391              0.000000  \n",
       "3392              0.000000  \n",
       "3393              0.000631  \n",
       "3394              0.000895  \n",
       "\n",
       "[3395 rows x 19 columns]"
      ]
     },
     "execution_count": 5,
     "metadata": {},
     "output_type": "execute_result"
    }
   ],
   "source": [
    "# Drop the GameID variable, as it serves only as an index and not as a feature, also rename LeagueIndex to Target for easy identification\n",
    "data = data.drop(['GameID'], axis = 1)\n",
    "data.rename(columns = {'LeagueIndex' : 'Target'})"
   ]
  },
  {
   "cell_type": "code",
   "execution_count": 6,
   "metadata": {},
   "outputs": [
    {
     "data": {
      "text/plain": [
       "LeagueIndex               int64\n",
       "Age                      object\n",
       "HoursPerWeek             object\n",
       "TotalHours               object\n",
       "APM                     float64\n",
       "SelectByHotkeys         float64\n",
       "AssignToHotkeys         float64\n",
       "UniqueHotkeys             int64\n",
       "MinimapAttacks          float64\n",
       "MinimapRightClicks      float64\n",
       "NumberOfPACs            float64\n",
       "GapBetweenPACs          float64\n",
       "ActionLatency           float64\n",
       "ActionsInPAC            float64\n",
       "TotalMapExplored          int64\n",
       "WorkersMade             float64\n",
       "UniqueUnitsMade           int64\n",
       "ComplexUnitsMade        float64\n",
       "ComplexAbilitiesUsed    float64\n",
       "dtype: object"
      ]
     },
     "execution_count": 6,
     "metadata": {},
     "output_type": "execute_result"
    }
   ],
   "source": [
    "data.dtypes\n",
    "# we have some non-numerical values that we'll have to change to numeric. We will do this while we impute values for our missing values"
   ]
  },
  {
   "cell_type": "markdown",
   "metadata": {},
   "source": [
    "## Imputing Missing Values"
   ]
  },
  {
   "cell_type": "code",
   "execution_count": 7,
   "metadata": {},
   "outputs": [
    {
     "data": {
      "text/plain": [
       "LeagueIndex              0\n",
       "Age                     55\n",
       "HoursPerWeek            56\n",
       "TotalHours              57\n",
       "APM                      0\n",
       "SelectByHotkeys          0\n",
       "AssignToHotkeys          0\n",
       "UniqueHotkeys            0\n",
       "MinimapAttacks           0\n",
       "MinimapRightClicks       0\n",
       "NumberOfPACs             0\n",
       "GapBetweenPACs           0\n",
       "ActionLatency            0\n",
       "ActionsInPAC             0\n",
       "TotalMapExplored         0\n",
       "WorkersMade              0\n",
       "UniqueUnitsMade          0\n",
       "ComplexUnitsMade         0\n",
       "ComplexAbilitiesUsed     0\n",
       "dtype: int64"
      ]
     },
     "execution_count": 7,
     "metadata": {},
     "output_type": "execute_result"
    }
   ],
   "source": [
    "# We have some '?' values which signify missing values\n",
    "# let's identify the data points with \"?\" in them by first converting them to nan values\n",
    "data = data.replace('?', np.nan)\n",
    "data.isnull().sum()\n"
   ]
  },
  {
   "cell_type": "code",
   "execution_count": 8,
   "metadata": {},
   "outputs": [
    {
     "data": {
      "text/plain": [
       "<matplotlib.axes._subplots.AxesSubplot at 0x12b5c2e48c8>"
      ]
     },
     "execution_count": 8,
     "metadata": {},
     "output_type": "execute_result"
    },
    {
     "data": {
      "image/png": "[encoded data removed]",
      "text/plain": [
       "<Figure size 1800x720 with 3 Axes>"
      ]
     },
     "metadata": {
      "needs_background": "light"
     },
     "output_type": "display_data"
    }
   ],
   "source": [
    "# there are 3 columns with missing values\n",
    "# instead of removing them, the data is the other columns are all useful. Let's look at the distributions to see what we might want to impute with\n",
    "#data['Age'].fillna(data['Age'].mean(), inplace = True)\n",
    "#pd.to_numeric(data[['Age', 'HoursPerWeek']]).hist()\n",
    "fig, axes = plt.subplots(1, 3)\n",
    "data['Age'].hist(figsize=(25, 10),ax = axes[0])\n",
    "data['HoursPerWeek'].hist(ax = axes[1])\n",
    "data['TotalHours'].hist(ax = axes[2])"
   ]
  },
  {
   "cell_type": "code",
   "execution_count": 9,
   "metadata": {},
   "outputs": [
    {
     "data": {
      "text/plain": [
       "LeagueIndex             0\n",
       "Age                     0\n",
       "HoursPerWeek            0\n",
       "TotalHours              0\n",
       "APM                     0\n",
       "SelectByHotkeys         0\n",
       "AssignToHotkeys         0\n",
       "UniqueHotkeys           0\n",
       "MinimapAttacks          0\n",
       "MinimapRightClicks      0\n",
       "NumberOfPACs            0\n",
       "GapBetweenPACs          0\n",
       "ActionLatency           0\n",
       "ActionsInPAC            0\n",
       "TotalMapExplored        0\n",
       "WorkersMade             0\n",
       "UniqueUnitsMade         0\n",
       "ComplexUnitsMade        0\n",
       "ComplexAbilitiesUsed    0\n",
       "dtype: int64"
      ]
     },
     "execution_count": 9,
     "metadata": {},
     "output_type": "execute_result"
    }
   ],
   "source": [
    "# given that none of the distributions are normal, it might make the most sense to use the median of each column as the imputed value\n",
    "# while we are at it, let's convert the numbers to numeric values, so that we can actually use them as such\n",
    "data['Age'] = pd.to_numeric(data['Age'].fillna(data['Age'].median()))\n",
    "data['HoursPerWeek'] = pd.to_numeric(data['HoursPerWeek'].fillna(data['HoursPerWeek'].median()))\n",
    "data['TotalHours'] = pd.to_numeric(data['TotalHours'].fillna(data['TotalHours'].median()))\n",
    "data.isnull().sum()"
   ]
  },
  {
   "cell_type": "code",
   "execution_count": 10,
   "metadata": {},
   "outputs": [
    {
     "data": {
      "text/plain": [
       "LeagueIndex               int64\n",
       "Age                     float64\n",
       "HoursPerWeek            float64\n",
       "TotalHours              float64\n",
       "APM                     float64\n",
       "SelectByHotkeys         float64\n",
       "AssignToHotkeys         float64\n",
       "UniqueHotkeys             int64\n",
       "MinimapAttacks          float64\n",
       "MinimapRightClicks      float64\n",
       "NumberOfPACs            float64\n",
       "GapBetweenPACs          float64\n",
       "ActionLatency           float64\n",
       "ActionsInPAC            float64\n",
       "TotalMapExplored          int64\n",
       "WorkersMade             float64\n",
       "UniqueUnitsMade           int64\n",
       "ComplexUnitsMade        float64\n",
       "ComplexAbilitiesUsed    float64\n",
       "dtype: object"
      ]
     },
     "execution_count": 10,
     "metadata": {},
     "output_type": "execute_result"
    }
   ],
   "source": [
    "data.dtypes"
   ]
  },
  {
   "cell_type": "code",
   "execution_count": 11,
   "metadata": {},
   "outputs": [
    {
     "data": {
      "text/plain": [
       "array([[<matplotlib.axes._subplots.AxesSubplot object at 0x0000012B5CC50608>,\n",
       "        <matplotlib.axes._subplots.AxesSubplot object at 0x0000012B5CD8C2C8>,\n",
       "        <matplotlib.axes._subplots.AxesSubplot object at 0x0000012B5CDCF748>,\n",
       "        <matplotlib.axes._subplots.AxesSubplot object at 0x0000012B5C6C15C8>],\n",
       "       [<matplotlib.axes._subplots.AxesSubplot object at 0x0000012B5C6F5708>,\n",
       "        <matplotlib.axes._subplots.AxesSubplot object at 0x0000012B5C72A708>,\n",
       "        <matplotlib.axes._subplots.AxesSubplot object at 0x0000012B5C75F488>,\n",
       "        <matplotlib.axes._subplots.AxesSubplot object at 0x0000012B5C793548>],\n",
       "       [<matplotlib.axes._subplots.AxesSubplot object at 0x0000012B5C7C8708>,\n",
       "        <matplotlib.axes._subplots.AxesSubplot object at 0x0000012B5C7FE808>,\n",
       "        <matplotlib.axes._subplots.AxesSubplot object at 0x0000012B5C838908>,\n",
       "        <matplotlib.axes._subplots.AxesSubplot object at 0x0000012B5C872A08>],\n",
       "       [<matplotlib.axes._subplots.AxesSubplot object at 0x0000012B5C8AAB48>,\n",
       "        <matplotlib.axes._subplots.AxesSubplot object at 0x0000012B5C8E4C88>,\n",
       "        <matplotlib.axes._subplots.AxesSubplot object at 0x0000012B5C91BE08>,\n",
       "        <matplotlib.axes._subplots.AxesSubplot object at 0x0000012B5C956F48>],\n",
       "       [<matplotlib.axes._subplots.AxesSubplot object at 0x0000012B5C995088>,\n",
       "        <matplotlib.axes._subplots.AxesSubplot object at 0x0000012B5C9CF1C8>,\n",
       "        <matplotlib.axes._subplots.AxesSubplot object at 0x0000012B5CA08308>,\n",
       "        <matplotlib.axes._subplots.AxesSubplot object at 0x0000012B5CA42448>]],\n",
       "      dtype=object)"
      ]
     },
     "execution_count": 11,
     "metadata": {},
     "output_type": "execute_result"
    },
    {
     "data": {
      "image/png": "[encoded data removed]",
      "text/plain": [
       "<Figure size 1440x1080 with 20 Axes>"
      ]
     },
     "metadata": {
      "needs_background": "light"
     },
     "output_type": "display_data"
    }
   ],
   "source": [
    "#Let's take a look at the histograms for each feature since there aren't too many\n",
    "data.hist(figsize=(20,15), bins = 10)"
   ]
  },
  {
   "cell_type": "markdown",
   "metadata": {},
   "source": [
    "### We have a good set of features. My initial analysis indicates that a lot of these distributions are normal distributions, but there are a couple features with heavy skew and long tails (e.g selectByHotkeys). GameID doesn't provide any information, and will be removed from the set of features. All other variables are numerical, most of which are continous. "
   ]
  },
  {
   "cell_type": "code",
   "execution_count": 23,
   "metadata": {},
   "outputs": [
    {
     "data": {
      "text/plain": [
       "array([[<matplotlib.axes._subplots.AxesSubplot object at 0x0000012B5F157708>,\n",
       "        <matplotlib.axes._subplots.AxesSubplot object at 0x0000012B5F157588>,\n",
       "        <matplotlib.axes._subplots.AxesSubplot object at 0x0000012B5F93C288>],\n",
       "       [<matplotlib.axes._subplots.AxesSubplot object at 0x0000012B5F96D808>,\n",
       "        <matplotlib.axes._subplots.AxesSubplot object at 0x0000012B5F9A8448>,\n",
       "        <matplotlib.axes._subplots.AxesSubplot object at 0x0000012B5F9DF1C8>],\n",
       "       [<matplotlib.axes._subplots.AxesSubplot object at 0x0000012B5FA0CF08>,\n",
       "        <matplotlib.axes._subplots.AxesSubplot object at 0x0000012B5FA43C88>,\n",
       "        <matplotlib.axes._subplots.AxesSubplot object at 0x0000012B5FA7DA48>]],\n",
       "      dtype=object)"
      ]
     },
     "execution_count": 23,
     "metadata": {},
     "output_type": "execute_result"
    },
    {
     "data": {
      "image/png": "[encoded data removed]",
      "text/plain": [
       "<Figure size 1080x720 with 9 Axes>"
      ]
     },
     "metadata": {
      "needs_background": "light"
     },
     "output_type": "display_data"
    }
   ],
   "source": [
    "# for variables with high skew, let's log normalize them so that it's easier for our model to analyze them. Use a threshold value of 0.5 for skew\n",
    "skewed = data.skew()\n",
    "skewed = skewed[skewed > 0.5]\n",
    "skewed = skewed.index\n",
    "data[skewed] = np.log1p(data[skewed])\n",
    "\n",
    "# plot the transofmred columns\n",
    "data[skewed].hist(figsize = (15, 10))"
   ]
  },
  {
   "cell_type": "code",
   "execution_count": 24,
   "metadata": {},
   "outputs": [
    {
     "data": {
      "text/html": [
       "<div>\n",
       "<style scoped>\n",
       "    .dataframe tbody tr th:only-of-type {\n",
       "        vertical-align: middle;\n",
       "    }\n",
       "\n",
       "    .dataframe tbody tr th {\n",
       "        vertical-align: top;\n",
       "    }\n",
       "\n",
       "    .dataframe thead th {\n",
       "        text-align: right;\n",
       "    }\n",
       "</style>\n",
       "<table border=\"1\" class=\"dataframe\">\n",
       "  <thead>\n",
       "    <tr style=\"text-align: right;\">\n",
       "      <th></th>\n",
       "      <th>LeagueIndex</th>\n",
       "      <th>Age</th>\n",
       "      <th>HoursPerWeek</th>\n",
       "      <th>TotalHours</th>\n",
       "      <th>APM</th>\n",
       "      <th>SelectByHotkeys</th>\n",
       "      <th>AssignToHotkeys</th>\n",
       "      <th>UniqueHotkeys</th>\n",
       "      <th>MinimapAttacks</th>\n",
       "      <th>MinimapRightClicks</th>\n",
       "      <th>NumberOfPACs</th>\n",
       "      <th>GapBetweenPACs</th>\n",
       "      <th>ActionLatency</th>\n",
       "      <th>ActionsInPAC</th>\n",
       "      <th>TotalMapExplored</th>\n",
       "      <th>WorkersMade</th>\n",
       "      <th>UniqueUnitsMade</th>\n",
       "      <th>ComplexUnitsMade</th>\n",
       "      <th>ComplexAbilitiesUsed</th>\n",
       "    </tr>\n",
       "  </thead>\n",
       "  <tbody>\n",
       "    <tr>\n",
       "      <th>count</th>\n",
       "      <td>3395.000000</td>\n",
       "      <td>3395.000000</td>\n",
       "      <td>3395.000000</td>\n",
       "      <td>3395.000000</td>\n",
       "      <td>3395.000000</td>\n",
       "      <td>3395.000000</td>\n",
       "      <td>3395.000000</td>\n",
       "      <td>3395.000000</td>\n",
       "      <td>3395.000000</td>\n",
       "      <td>3395.000000</td>\n",
       "      <td>3395.000000</td>\n",
       "      <td>3395.000000</td>\n",
       "      <td>3395.000000</td>\n",
       "      <td>3395.000000</td>\n",
       "      <td>3395.000000</td>\n",
       "      <td>3395.000000</td>\n",
       "      <td>3395.000000</td>\n",
       "      <td>3395.000000</td>\n",
       "      <td>3395.000000</td>\n",
       "    </tr>\n",
       "    <tr>\n",
       "      <th>mean</th>\n",
       "      <td>4.184094</td>\n",
       "      <td>1.411079</td>\n",
       "      <td>2.619062</td>\n",
       "      <td>6.134597</td>\n",
       "      <td>4.679308</td>\n",
       "      <td>0.004253</td>\n",
       "      <td>0.000373</td>\n",
       "      <td>4.364654</td>\n",
       "      <td>0.000098</td>\n",
       "      <td>0.000387</td>\n",
       "      <td>0.003450</td>\n",
       "      <td>3.647460</td>\n",
       "      <td>4.129335</td>\n",
       "      <td>1.810654</td>\n",
       "      <td>3.088276</td>\n",
       "      <td>0.001030</td>\n",
       "      <td>6.534021</td>\n",
       "      <td>0.000059</td>\n",
       "      <td>0.000142</td>\n",
       "    </tr>\n",
       "    <tr>\n",
       "      <th>std</th>\n",
       "      <td>1.517327</td>\n",
       "      <td>0.041882</td>\n",
       "      <td>0.645693</td>\n",
       "      <td>0.914732</td>\n",
       "      <td>0.432476</td>\n",
       "      <td>0.005160</td>\n",
       "      <td>0.000225</td>\n",
       "      <td>2.360333</td>\n",
       "      <td>0.000166</td>\n",
       "      <td>0.000376</td>\n",
       "      <td>0.000985</td>\n",
       "      <td>0.383969</td>\n",
       "      <td>0.284675</td>\n",
       "      <td>0.223153</td>\n",
       "      <td>0.331962</td>\n",
       "      <td>0.000517</td>\n",
       "      <td>1.857697</td>\n",
       "      <td>0.000111</td>\n",
       "      <td>0.000265</td>\n",
       "    </tr>\n",
       "    <tr>\n",
       "      <th>min</th>\n",
       "      <td>1.000000</td>\n",
       "      <td>1.343703</td>\n",
       "      <td>0.000000</td>\n",
       "      <td>1.386294</td>\n",
       "      <td>3.138082</td>\n",
       "      <td>0.000000</td>\n",
       "      <td>0.000000</td>\n",
       "      <td>0.000000</td>\n",
       "      <td>0.000000</td>\n",
       "      <td>0.000000</td>\n",
       "      <td>0.000679</td>\n",
       "      <td>2.036886</td>\n",
       "      <td>3.222613</td>\n",
       "      <td>1.111496</td>\n",
       "      <td>1.791759</td>\n",
       "      <td>0.000077</td>\n",
       "      <td>2.000000</td>\n",
       "      <td>0.000000</td>\n",
       "      <td>0.000000</td>\n",
       "    </tr>\n",
       "    <tr>\n",
       "      <th>25%</th>\n",
       "      <td>3.000000</td>\n",
       "      <td>1.385227</td>\n",
       "      <td>2.197225</td>\n",
       "      <td>5.707110</td>\n",
       "      <td>4.393216</td>\n",
       "      <td>0.001256</td>\n",
       "      <td>0.000204</td>\n",
       "      <td>3.000000</td>\n",
       "      <td>0.000000</td>\n",
       "      <td>0.000140</td>\n",
       "      <td>0.002746</td>\n",
       "      <td>3.399788</td>\n",
       "      <td>3.940544</td>\n",
       "      <td>1.662571</td>\n",
       "      <td>2.890372</td>\n",
       "      <td>0.000682</td>\n",
       "      <td>5.000000</td>\n",
       "      <td>0.000000</td>\n",
       "      <td>0.000000</td>\n",
       "    </tr>\n",
       "    <tr>\n",
       "      <th>50%</th>\n",
       "      <td>4.000000</td>\n",
       "      <td>1.408800</td>\n",
       "      <td>2.564949</td>\n",
       "      <td>6.216606</td>\n",
       "      <td>4.691441</td>\n",
       "      <td>0.002493</td>\n",
       "      <td>0.000352</td>\n",
       "      <td>4.000000</td>\n",
       "      <td>0.000040</td>\n",
       "      <td>0.000281</td>\n",
       "      <td>0.003384</td>\n",
       "      <td>3.630283</td>\n",
       "      <td>4.126034</td>\n",
       "      <td>1.807551</td>\n",
       "      <td>3.135494</td>\n",
       "      <td>0.000904</td>\n",
       "      <td>6.000000</td>\n",
       "      <td>0.000000</td>\n",
       "      <td>0.000020</td>\n",
       "    </tr>\n",
       "    <tr>\n",
       "      <th>75%</th>\n",
       "      <td>5.000000</td>\n",
       "      <td>1.439569</td>\n",
       "      <td>3.044522</td>\n",
       "      <td>6.685861</td>\n",
       "      <td>4.968357</td>\n",
       "      <td>0.005106</td>\n",
       "      <td>0.000499</td>\n",
       "      <td>6.000000</td>\n",
       "      <td>0.000119</td>\n",
       "      <td>0.000514</td>\n",
       "      <td>0.004011</td>\n",
       "      <td>3.897731</td>\n",
       "      <td>4.313230</td>\n",
       "      <td>1.950699</td>\n",
       "      <td>3.332205</td>\n",
       "      <td>0.001257</td>\n",
       "      <td>8.000000</td>\n",
       "      <td>0.000086</td>\n",
       "      <td>0.000181</td>\n",
       "    </tr>\n",
       "    <tr>\n",
       "      <th>max</th>\n",
       "      <td>8.000000</td>\n",
       "      <td>1.570003</td>\n",
       "      <td>5.129899</td>\n",
       "      <td>13.815512</td>\n",
       "      <td>5.968276</td>\n",
       "      <td>0.041320</td>\n",
       "      <td>0.001749</td>\n",
       "      <td>10.000000</td>\n",
       "      <td>0.003010</td>\n",
       "      <td>0.004025</td>\n",
       "      <td>0.007908</td>\n",
       "      <td>5.472871</td>\n",
       "      <td>5.178250</td>\n",
       "      <td>2.973390</td>\n",
       "      <td>4.077537</td>\n",
       "      <td>0.005123</td>\n",
       "      <td>13.000000</td>\n",
       "      <td>0.000901</td>\n",
       "      <td>0.003074</td>\n",
       "    </tr>\n",
       "  </tbody>\n",
       "</table>\n",
       "</div>"
      ],
      "text/plain": [
       "       LeagueIndex          Age  HoursPerWeek   TotalHours          APM  \\\n",
       "count  3395.000000  3395.000000   3395.000000  3395.000000  3395.000000   \n",
       "mean      4.184094     1.411079      2.619062     6.134597     4.679308   \n",
       "std       1.517327     0.041882      0.645693     0.914732     0.432476   \n",
       "min       1.000000     1.343703      0.000000     1.386294     3.138082   \n",
       "25%       3.000000     1.385227      2.197225     5.707110     4.393216   \n",
       "50%       4.000000     1.408800      2.564949     6.216606     4.691441   \n",
       "75%       5.000000     1.439569      3.044522     6.685861     4.968357   \n",
       "max       8.000000     1.570003      5.129899    13.815512     5.968276   \n",
       "\n",
       "       SelectByHotkeys  AssignToHotkeys  UniqueHotkeys  MinimapAttacks  \\\n",
       "count      3395.000000      3395.000000    3395.000000     3395.000000   \n",
       "mean          0.004253         0.000373       4.364654        0.000098   \n",
       "std           0.005160         0.000225       2.360333        0.000166   \n",
       "min           0.000000         0.000000       0.000000        0.000000   \n",
       "25%           0.001256         0.000204       3.000000        0.000000   \n",
       "50%           0.002493         0.000352       4.000000        0.000040   \n",
       "75%           0.005106         0.000499       6.000000        0.000119   \n",
       "max           0.041320         0.001749      10.000000        0.003010   \n",
       "\n",
       "       MinimapRightClicks  NumberOfPACs  GapBetweenPACs  ActionLatency  \\\n",
       "count         3395.000000   3395.000000     3395.000000    3395.000000   \n",
       "mean             0.000387      0.003450        3.647460       4.129335   \n",
       "std              0.000376      0.000985        0.383969       0.284675   \n",
       "min              0.000000      0.000679        2.036886       3.222613   \n",
       "25%              0.000140      0.002746        3.399788       3.940544   \n",
       "50%              0.000281      0.003384        3.630283       4.126034   \n",
       "75%              0.000514      0.004011        3.897731       4.313230   \n",
       "max              0.004025      0.007908        5.472871       5.178250   \n",
       "\n",
       "       ActionsInPAC  TotalMapExplored  WorkersMade  UniqueUnitsMade  \\\n",
       "count   3395.000000       3395.000000  3395.000000      3395.000000   \n",
       "mean       1.810654          3.088276     0.001030         6.534021   \n",
       "std        0.223153          0.331962     0.000517         1.857697   \n",
       "min        1.111496          1.791759     0.000077         2.000000   \n",
       "25%        1.662571          2.890372     0.000682         5.000000   \n",
       "50%        1.807551          3.135494     0.000904         6.000000   \n",
       "75%        1.950699          3.332205     0.001257         8.000000   \n",
       "max        2.973390          4.077537     0.005123        13.000000   \n",
       "\n",
       "       ComplexUnitsMade  ComplexAbilitiesUsed  \n",
       "count       3395.000000           3395.000000  \n",
       "mean           0.000059              0.000142  \n",
       "std            0.000111              0.000265  \n",
       "min            0.000000              0.000000  \n",
       "25%            0.000000              0.000000  \n",
       "50%            0.000000              0.000020  \n",
       "75%            0.000086              0.000181  \n",
       "max            0.000901              0.003074  "
      ]
     },
     "execution_count": 24,
     "metadata": {},
     "output_type": "execute_result"
    }
   ],
   "source": [
    "data.describe()"
   ]
  },
  {
   "cell_type": "markdown",
   "metadata": {},
   "source": [
    "## Feature Selection\n",
    "Since there aren't that many features, we probably won't have to perform much dimensionality reduction, but let's take a look at the correlation matrix and see which features look helpful"
   ]
  },
  {
   "cell_type": "code",
   "execution_count": 25,
   "metadata": {},
   "outputs": [
    {
     "data": {
      "text/plain": [
       "<matplotlib.axes._subplots.AxesSubplot at 0x12b5e787d08>"
      ]
     },
     "execution_count": 25,
     "metadata": {},
     "output_type": "execute_result"
    },
    {
     "data": {
      "image/png": "[encoded data removed]",
      "text/plain": [
       "<Figure size 1440x1440 with 2 Axes>"
      ]
     },
     "metadata": {
      "needs_background": "light"
     },
     "output_type": "display_data"
    }
   ],
   "source": [
    "# Build a correlation map of all variables including the target variable\n",
    "plt.figure(figsize = (20,20))\n",
    "corr = data.corr()\n",
    "sns.heatmap(corr, linewidths=0.1,cmap=plt.cm.RdBu,annot=False, fmt='.2f')"
   ]
  },
  {
   "cell_type": "markdown",
   "metadata": {},
   "source": [
    "### We can already see that it looks like some features will have more relation than others on a player's ranking. Most notably, PAC numbers seem to be related to league rank. "
   ]
  },
  {
   "cell_type": "code",
   "execution_count": 82,
   "metadata": {},
   "outputs": [],
   "source": [
    "# Given our sample size isn't very large, we should select features that will actually contribute to model accuracy rather than just noise\n",
    "# let's remove some of the highly correlated variables\n",
    "data = data.drop(columns = ['NumberOfPACs'], axis = 1)"
   ]
  },
  {
   "cell_type": "markdown",
   "metadata": {},
   "source": [
    "## Build Models\n",
    "Let's build some models. First, we should define a base model that we can use to compare the performance of our model. We will use a naive model that always picks the most frequent rank in the dataset.\n",
    "For our ML model, we can go with a simple neural network to aid us in our classification"
   ]
  },
  {
   "cell_type": "code",
   "execution_count": 138,
   "metadata": {},
   "outputs": [],
   "source": [
    "# Let's also separate our target variable and features\n",
    "training, testing = train_test_split(data, test_size = 0.2, random_state = 25)\n",
    "X_train = training.drop(['LeagueIndex'], axis = 1)\n",
    "Y_train = training['LeagueIndex']\n",
    "\n",
    "X_test = testing.drop(['LeagueIndex'], axis = 1)\n",
    "Y_test = testing['LeagueIndex']"
   ]
  },
  {
   "cell_type": "code",
   "execution_count": 139,
   "metadata": {},
   "outputs": [
    {
     "name": "stdout",
     "output_type": "stream",
     "text": [
      "The most frequent rank is 4\n",
      "The accuracy of the naive model is 0.23269513991163476\n"
     ]
    }
   ],
   "source": [
    "# let's setup a really baseline naive model using the most frequently seen rank always as the predicted output (i.e if rank 1 is the most frequently appearing rank, we will always predict rank 1)\n",
    "def build_naive(Y_train, Y_test):\n",
    "    pred = Y_train.mode()\n",
    "    print(f\"The most frequent rank is {pred[0]}\")\n",
    "    print(f\"The accuracy of the naive model is {len(Y_test[Y_test == 4])/len(Y_test)}\" )\n",
    "\n",
    "build_naive(Y_train, Y_test)"
   ]
  },
  {
   "cell_type": "markdown",
   "metadata": {},
   "source": [
    "### Looks like if we just guess 4 all the time, our accuracy is really low. No surprise there, but this will serve as a decent baseline."
   ]
  },
  {
   "cell_type": "code",
   "execution_count": 140,
   "metadata": {},
   "outputs": [
    {
     "data": {
      "text/plain": [
       "(2716,)"
      ]
     },
     "execution_count": 140,
     "metadata": {},
     "output_type": "execute_result"
    }
   ],
   "source": [
    "X_train.shape\n",
    "Y_train.shape"
   ]
  },
  {
   "cell_type": "code",
   "execution_count": 141,
   "metadata": {},
   "outputs": [],
   "source": [
    "# build a simple logistic regression classifier\n",
    "def build_log_reg(X_train, Y_train):\n",
    "    lm = linear_model.LogisticRegression(multi_class='ovr', solver='liblinear')\n",
    "    \n",
    "    lm.fit(X_train, Y_train)\n",
    "    return lm\n",
    "    "
   ]
  },
  {
   "cell_type": "code",
   "execution_count": 142,
   "metadata": {},
   "outputs": [
    {
     "data": {
      "text/plain": [
       "0.3784977908689249"
      ]
     },
     "execution_count": 142,
     "metadata": {},
     "output_type": "execute_result"
    }
   ],
   "source": [
    "model = build_log_reg(X_train, Y_train)\n",
    "model.score(X_test, Y_test)"
   ]
  },
  {
   "cell_type": "code",
   "execution_count": 143,
   "metadata": {},
   "outputs": [
    {
     "data": {
      "text/plain": [
       "array([[ 4, 10, 13,  9,  0,  0,  0,  0],\n",
       "       [ 5, 11, 19, 34,  4,  1,  0,  0],\n",
       "       [ 2,  9, 17, 67, 12,  3,  0,  0],\n",
       "       [ 0,  6, 12, 97, 34,  9,  0,  0],\n",
       "       [ 0,  0,  3, 53, 65, 45,  0,  1],\n",
       "       [ 0,  0,  0, 10, 44, 61,  0,  0],\n",
       "       [ 0,  0,  0,  0,  1,  2,  0,  0],\n",
       "       [ 0,  0,  0,  0,  0, 14,  0,  2]], dtype=int64)"
      ]
     },
     "execution_count": 143,
     "metadata": {},
     "output_type": "execute_result"
    },
    {
     "data": {
      "image/png": "[encoded data removed]",
      "text/plain": [
       "<Figure size 720x432 with 2 Axes>"
      ]
     },
     "metadata": {
      "needs_background": "light"
     },
     "output_type": "display_data"
    }
   ],
   "source": [
    "#Creating matplotlib axes object to assign figuresize and figure title\n",
    "fig, ax = plt.subplots(figsize=(10, 6))\n",
    "ax.set_title('Confusion Matrx')\n",
    "\n",
    "disp =metrics.plot_confusion_matrix(model, X_test, Y_test,  ax = ax)\n",
    "disp.confusion_matrix"
   ]
  },
  {
   "cell_type": "markdown",
   "metadata": {},
   "source": [
    "### We can see that the accuracy of our logistic classifier is about 38%. This is a big improvement against the naive model, but still pretty lackluster. If we look at the confusion matrix, the logistic regression is really only doing well classifying the rank 4, 5, and 6 datapoints. We might improve this by looking at the data for other ranks, and seeing if there is some pattern that we can account for that will make our model more accurate. Let's try a more powerful model, a simple neural network. "
   ]
  },
  {
   "cell_type": "code",
   "execution_count": 147,
   "metadata": {},
   "outputs": [],
   "source": [
    "# build a simple neural network using keras\n",
    "# use 1 input layer, 2 hidden layers (with relu activation), 1 output layer using softmax activation function\n",
    "# use adam optimizer for gradient descent\n",
    "def build_nn():\n",
    "  # Clear session and remove randomness.\n",
    "    tf.keras.backend.clear_session()\n",
    "    tf.random.set_seed(0)\n",
    "\n",
    "    model = tf.keras.Sequential()\n",
    "\n",
    "    model.add(tf.keras.layers.Dense(units=64, activation = 'relu'))\n",
    "    model.add(tf.keras.layers.Dense(units=128, activation = 'relu'))\n",
    "\n",
    "    model.add(tf.keras.layers.Dense(\n",
    "        units = 9,\n",
    "        activation = tf.keras.activations.softmax\n",
    "    ))\n",
    "\n",
    "    model.compile(loss='categorical_crossentropy', \n",
    "                optimizer='adam',\n",
    "                metrics=['accuracy'])\n",
    "\n",
    "\n",
    "    return model"
   ]
  },
  {
   "cell_type": "code",
   "execution_count": 148,
   "metadata": {},
   "outputs": [],
   "source": [
    "#Function to show model loss progression across epochs\n",
    "\n",
    "def plot_history(history):\n",
    "    plt.ylabel('Loss')\n",
    "    plt.xlabel('Epoch')\n",
    "    plt.xticks(range(0, len(history['loss'] + 1)))\n",
    "    plt.plot(history['loss'], label=\"training\", marker='o')\n",
    "    plt.plot(history['val_loss'], label=\"validation\", marker='o')\n",
    "    plt.legend()\n",
    "    plt.show()"
   ]
  },
  {
   "cell_type": "code",
   "execution_count": 150,
   "metadata": {},
   "outputs": [
    {
     "name": "stdout",
     "output_type": "stream",
     "text": [
      "Epoch 1/10\n",
      "39/39 [==============================] - 0s 4ms/step - loss: 1.8878 - accuracy: 0.2750 - val_loss: 1.7082 - val_accuracy: 0.2757\n",
      "Epoch 2/10\n",
      "39/39 [==============================] - 0s 1ms/step - loss: 1.6393 - accuracy: 0.3056 - val_loss: 1.6127 - val_accuracy: 0.2794\n",
      "Epoch 3/10\n",
      "39/39 [==============================] - 0s 1ms/step - loss: 1.5723 - accuracy: 0.3457 - val_loss: 1.5608 - val_accuracy: 0.3382\n",
      "Epoch 4/10\n",
      "39/39 [==============================] - 0s 1ms/step - loss: 1.5225 - accuracy: 0.3539 - val_loss: 1.5130 - val_accuracy: 0.3603\n",
      "Epoch 5/10\n",
      "39/39 [==============================] - 0s 1ms/step - loss: 1.4979 - accuracy: 0.3502 - val_loss: 1.5154 - val_accuracy: 0.3382\n",
      "Epoch 6/10\n",
      "39/39 [==============================] - 0s 1ms/step - loss: 1.4659 - accuracy: 0.3674 - val_loss: 1.4727 - val_accuracy: 0.3787\n",
      "Epoch 7/10\n",
      "39/39 [==============================] - 0s 1ms/step - loss: 1.4362 - accuracy: 0.3727 - val_loss: 1.4631 - val_accuracy: 0.3713\n",
      "Epoch 8/10\n",
      "39/39 [==============================] - 0s 1ms/step - loss: 1.4228 - accuracy: 0.3854 - val_loss: 1.4457 - val_accuracy: 0.3787\n",
      "Epoch 9/10\n",
      "39/39 [==============================] - 0s 1ms/step - loss: 1.4090 - accuracy: 0.3826 - val_loss: 1.5009 - val_accuracy: 0.3199\n",
      "Epoch 10/10\n",
      "39/39 [==============================] - 0s 1ms/step - loss: 1.4097 - accuracy: 0.3940 - val_loss: 1.4365 - val_accuracy: 0.3750\n"
     ]
    },
    {
     "data": {
      "image/png": "[encoded data removed]",
      "text/plain": [
       "<Figure size 432x288 with 1 Axes>"
      ]
     },
     "metadata": {
      "needs_background": "light"
     },
     "output_type": "display_data"
    },
    {
     "name": "stdout",
     "output_type": "stream",
     "text": [
      "Model: \"sequential\"\n",
      "_________________________________________________________________\n",
      " Layer (type)                Output Shape              Param #   \n",
      "=================================================================\n",
      " dense (Dense)               (None, 64)                1152      \n",
      "                                                                 \n",
      " dense_1 (Dense)             (None, 128)               8320      \n",
      "                                                                 \n",
      " dense_2 (Dense)             (None, 9)                 1161      \n",
      "                                                                 \n",
      "=================================================================\n",
      "Total params: 10,633\n",
      "Trainable params: 10,633\n",
      "Non-trainable params: 0\n",
      "_________________________________________________________________\n",
      "None\n"
     ]
    }
   ],
   "source": [
    "#Building, running the keras model and examining outputs.\n",
    "\n",
    "tf.random.set_seed(1234)\n",
    "\n",
    "model = build_nn()\n",
    "history = model.fit(\n",
    "  x = X_train,    # training data\n",
    "  y = tf.keras.utils.to_categorical(Y_train),          # corresponding labels\n",
    "  epochs = 10,             # number of passes through the training data\n",
    "  batch_size = 64,        # mini-batch size\n",
    "  validation_split = 0.1, # use a fraction of the examples for validation\n",
    "  verbose = 1             # display some progress output during training\n",
    "  )\n",
    "\n",
    "history = pd.DataFrame(history.history)\n",
    "plot_history(history)\n",
    "\n",
    "print(model.summary())"
   ]
  },
  {
   "cell_type": "markdown",
   "metadata": {},
   "source": [
    "# Final thoughts"
   ]
  },
  {
   "cell_type": "markdown",
   "metadata": {},
   "source": [
    "In this project, we have a problem where we are looking to identify what rank a player is based on some of their game statistics. To solve this problem, I examined the data, selected features, and built 3 models that predict what rank a player is based on the given statistics. The 3 models included a naive model that always predicted whatever the most frequent rank is (in the case of the data provided it is rank 4). This model correctly identified the ranks of 23% of the datapoints in my test set. This model serves as a simple baseline model that we can use to compare to our other models. The second model is a simple logistic model that produced an accuracy of 37%. Finally, the third model is a neural network that produced an accuracy of 39%. The models are also in order of increasing complexity, meaning that the neural network generally needs a larger dataset to perform well, otherwise it will tend to overfit (learn about patterns from the data that are actually just noise) on the training data. \n",
    "\n",
    "Overall, the performance of the models can also be increased by determining features that are more likely to help determine rank. We can see from the correlation matrix, that a lot of the features in this dataset are not strongly correlated with a player's rank. Therefore, as we collect more data, we need to be more intentional about which statistics we want to record and use as features. The models have a lot of room for growth, so we are definitely missing out on some great information. "
   ]
  },
  {
   "cell_type": "code",
   "execution_count": null,
   "metadata": {},
   "outputs": [],
   "source": []
  }
 ],
 "metadata": {
  "kernelspec": {
   "display_name": "Python 3",
   "language": "python",
   "name": "python3"
  },
  "language_info": {
   "codemirror_mode": {
    "name": "ipython",
    "version": 3
   },
   "file_extension": ".py",
   "mimetype": "text/x-python",
   "name": "python",
   "nbconvert_exporter": "python",
   "pygments_lexer": "ipython3",
   "version": "3.7.6"
  }
 },
 "nbformat": 4,
 "nbformat_minor": 4
}
